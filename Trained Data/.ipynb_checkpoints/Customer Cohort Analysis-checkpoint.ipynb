{
 "cells": [
  {
   "cell_type": "markdown",
   "id": "af0d3294-581b-4a20-8626-3fabec11e1ec",
   "metadata": {},
   "source": [
    "# Customer Cohort Analysis\n",
    "\n",
    "\n",
    "Cohort analysis is a useful technique to understand customer behavior over time. It involves grouping customers into cohorts based on their first purchase date and then analyzing their behavior over subsequent periods. Below is a Python script using pandas and matplotlib to perform cohort analysis on the provided dataset."
   ]
  },
  {
   "cell_type": "markdown",
   "id": "c54d9a10-6471-4a71-9fae-6121c671672a",
   "metadata": {},
   "source": [
    "## Step 1: Import Libraries"
   ]
  },
  {
   "cell_type": "code",
   "execution_count": 9,
   "id": "11ff3907-9f24-465c-bd4c-f86c92bc4d66",
   "metadata": {},
   "outputs": [],
   "source": [
    "import pandas as pd\n",
    "import numpy as np\n",
    "import matplotlib.pyplot as plt\n",
    "import seaborn as sns\n",
    "import calendar\n",
    "import warnings\n",
    "import json\n",
    "import os\n",
    "from datetime import datetime\n",
    "from itertools import combinations\n",
    "from collections import Counter"
   ]
  },
  {
   "cell_type": "markdown",
   "id": "80bd1375-4a2d-46c9-9af0-8176dee18b08",
   "metadata": {},
   "source": [
    "## Step 2: Load the Dataset"
   ]
  },
  {
   "cell_type": "code",
   "execution_count": 10,
   "id": "b720653f-68f9-433c-bc5d-1e79c45498a5",
   "metadata": {},
   "outputs": [
    {
     "data": {
      "text/html": [
       "<div>\n",
       "<style scoped>\n",
       "    .dataframe tbody tr th:only-of-type {\n",
       "        vertical-align: middle;\n",
       "    }\n",
       "\n",
       "    .dataframe tbody tr th {\n",
       "        vertical-align: top;\n",
       "    }\n",
       "\n",
       "    .dataframe thead th {\n",
       "        text-align: right;\n",
       "    }\n",
       "</style>\n",
       "<table border=\"1\" class=\"dataframe\">\n",
       "  <thead>\n",
       "    <tr style=\"text-align: right;\">\n",
       "      <th></th>\n",
       "      <th>Id</th>\n",
       "      <th>Full Name</th>\n",
       "      <th>Address</th>\n",
       "      <th>age</th>\n",
       "      <th>gender</th>\n",
       "      <th>Latitude</th>\n",
       "      <th>Longitude</th>\n",
       "      <th>Email Adress</th>\n",
       "      <th>Order Datetime</th>\n",
       "      <th>Order Status</th>\n",
       "      <th>Order Total</th>\n",
       "      <th>Items</th>\n",
       "      <th>Total sales</th>\n",
       "      <th>Order Count</th>\n",
       "      <th>Rating</th>\n",
       "      <th>Average Rating</th>\n",
       "    </tr>\n",
       "  </thead>\n",
       "  <tbody>\n",
       "    <tr>\n",
       "      <th>0</th>\n",
       "      <td>10</td>\n",
       "      <td>Adam Martinez</td>\n",
       "      <td>China, Beijing Shi</td>\n",
       "      <td>30</td>\n",
       "      <td>Female</td>\n",
       "      <td>40.0</td>\n",
       "      <td>116.0</td>\n",
       "      <td>adam.martinez@internalmail</td>\n",
       "      <td>9/14/2021</td>\n",
       "      <td>CANCELLED</td>\n",
       "      <td>209</td>\n",
       "      <td>Boy's Coat (Blue)</td>\n",
       "      <td>80</td>\n",
       "      <td>1</td>\n",
       "      <td>8</td>\n",
       "      <td>6</td>\n",
       "    </tr>\n",
       "    <tr>\n",
       "      <th>1</th>\n",
       "      <td>20</td>\n",
       "      <td>Adam Miller</td>\n",
       "      <td>193, Bannerghatta Main Rd</td>\n",
       "      <td>68</td>\n",
       "      <td>Female</td>\n",
       "      <td>13.0</td>\n",
       "      <td>78.0</td>\n",
       "      <td>adam.miller@internalmail</td>\n",
       "      <td>9/18/2021</td>\n",
       "      <td>COMPLETE</td>\n",
       "      <td>54</td>\n",
       "      <td>Boy's Coat (Blue)</td>\n",
       "      <td>10,816</td>\n",
       "      <td>90</td>\n",
       "      <td>4</td>\n",
       "      <td>6</td>\n",
       "    </tr>\n",
       "    <tr>\n",
       "      <th>2</th>\n",
       "      <td>30</td>\n",
       "      <td>Adam Walker</td>\n",
       "      <td>Behrenstraße 42</td>\n",
       "      <td>70</td>\n",
       "      <td>Female</td>\n",
       "      <td>53.0</td>\n",
       "      <td>13.0</td>\n",
       "      <td>adam.walker@internalmail</td>\n",
       "      <td>9/22/2021</td>\n",
       "      <td>COMPLETE</td>\n",
       "      <td>43</td>\n",
       "      <td>Boy's Coat (Blue)</td>\n",
       "      <td>319</td>\n",
       "      <td>3</td>\n",
       "      <td>8</td>\n",
       "      <td>6</td>\n",
       "    </tr>\n",
       "    <tr>\n",
       "      <th>3</th>\n",
       "      <td>40</td>\n",
       "      <td>Adan Lamica</td>\n",
       "      <td>Behrenstraße 42</td>\n",
       "      <td>72</td>\n",
       "      <td>Female</td>\n",
       "      <td>53.0</td>\n",
       "      <td>13.0</td>\n",
       "      <td>adan.lamica@internalmail</td>\n",
       "      <td>9/26/2021</td>\n",
       "      <td>COMPLETE</td>\n",
       "      <td>305</td>\n",
       "      <td>Boy's Coat (Brown)</td>\n",
       "      <td>137</td>\n",
       "      <td>3</td>\n",
       "      <td>5</td>\n",
       "      <td>6</td>\n",
       "    </tr>\n",
       "    <tr>\n",
       "      <th>4</th>\n",
       "      <td>50</td>\n",
       "      <td>Adeline Iannotti</td>\n",
       "      <td>Floreasca Park 43 Soseaua</td>\n",
       "      <td>16</td>\n",
       "      <td>Female</td>\n",
       "      <td>44.0</td>\n",
       "      <td>26.0</td>\n",
       "      <td>adeline.iannotti@internalmail</td>\n",
       "      <td>9/30/2021</td>\n",
       "      <td>COMPLETE</td>\n",
       "      <td>153</td>\n",
       "      <td>Boy's Coat (Brown)</td>\n",
       "      <td>3,936</td>\n",
       "      <td>64</td>\n",
       "      <td>6</td>\n",
       "      <td>6</td>\n",
       "    </tr>\n",
       "  </tbody>\n",
       "</table>\n",
       "</div>"
      ],
      "text/plain": [
       "   Id         Full Name                     Address  age  gender  Latitude  \\\n",
       "0  10     Adam Martinez         China, Beijing Shi    30  Female      40.0   \n",
       "1  20       Adam Miller  193, Bannerghatta Main Rd    68  Female      13.0   \n",
       "2  30       Adam Walker            Behrenstraße 42    70  Female      53.0   \n",
       "3  40       Adan Lamica            Behrenstraße 42    72  Female      53.0   \n",
       "4  50  Adeline Iannotti  Floreasca Park 43 Soseaua    16  Female      44.0   \n",
       "\n",
       "   Longitude                   Email Adress Order Datetime Order Status  \\\n",
       "0      116.0     adam.martinez@internalmail      9/14/2021    CANCELLED   \n",
       "1       78.0       adam.miller@internalmail      9/18/2021     COMPLETE   \n",
       "2       13.0       adam.walker@internalmail      9/22/2021     COMPLETE   \n",
       "3       13.0       adan.lamica@internalmail      9/26/2021     COMPLETE   \n",
       "4       26.0  adeline.iannotti@internalmail      9/30/2021     COMPLETE   \n",
       "\n",
       "   Order Total               Items Total sales  Order Count  Rating  \\\n",
       "0          209   Boy's Coat (Blue)          80            1       8   \n",
       "1           54   Boy's Coat (Blue)      10,816           90       4   \n",
       "2           43   Boy's Coat (Blue)         319            3       8   \n",
       "3          305  Boy's Coat (Brown)         137            3       5   \n",
       "4          153  Boy's Coat (Brown)       3,936           64       6   \n",
       "\n",
       "   Average Rating  \n",
       "0               6  \n",
       "1               6  \n",
       "2               6  \n",
       "3               6  \n",
       "4               6  "
      ]
     },
     "execution_count": 10,
     "metadata": {},
     "output_type": "execute_result"
    }
   ],
   "source": [
    "import pandas as pd\n",
    "import warnings\n",
    "\n",
    "warnings.filterwarnings(\"ignore\")\n",
    "\n",
    "Customer_data_df = pd.read_csv(r\"C:\\Users\\jki\\Desktop\\Data Scence Projects\\Customer Segmentaion Cohort Analysis\\Machine Learnign Project\\Source Data\\customer orders.csv\", encoding=\"ISO-8859-1\")\n",
    "Customer_data_df.head(5)"
   ]
  },
  {
   "cell_type": "markdown",
   "id": "6373155e-5ceb-4cbf-a81a-ac22f3283082",
   "metadata": {},
   "source": [
    "## Step 3: Convert Order Datetime to Datetime Format"
   ]
  },
  {
   "cell_type": "code",
   "execution_count": 11,
   "id": "e72500fc-01b6-4a35-8bbe-354120f0d41a",
   "metadata": {},
   "outputs": [],
   "source": [
    "# Convert 'Order Datetime' to datetime format\n",
    "Customer_data_df['Order Datetime'] = pd.to_datetime(Customer_data_df['Order Datetime'], format='%m/%d/%Y')"
   ]
  },
  {
   "cell_type": "markdown",
   "id": "9650bceb-1dea-4857-86a7-bc5088676fd5",
   "metadata": {},
   "source": [
    "## Step 4: Extract the Cohort (Month of First Purchase)"
   ]
  },
  {
   "cell_type": "code",
   "execution_count": 12,
   "id": "896a06a1-d3c1-42cf-939f-ad7715e69ff7",
   "metadata": {},
   "outputs": [],
   "source": [
    "# Extract the cohort (month of first purchase) for each customer\n",
    "Customer_data_df['Cohort'] = Customer_data_df.groupby('Email Adress')['Order Datetime'].transform('min').dt.to_period('M')"
   ]
  },
  {
   "cell_type": "markdown",
   "id": "5d3f8236-6ad3-4202-bb18-5159e109c9bd",
   "metadata": {},
   "source": [
    "## Step 5: Calculate the Cohort Index (Months Since First Purchase)"
   ]
  },
  {
   "cell_type": "markdown",
   "id": "beeff9e8-d1df-4e72-846b-1815de0ea93d",
   "metadata": {},
   "source": [
    "# Calculate the time offset for each order within the cohort\n",
    "Customer_data_df['Cohort Index'] = (Customer_data_df['Order Datetime'].dt.to_period('M') - Customer_data_df['Cohort']).apply(lambda x: x.n)"
   ]
  },
  {
   "cell_type": "markdown",
   "id": "c447b39b-d50d-4ba3-a069-27e30b3bf265",
   "metadata": {},
   "source": [
    "## Step 6: Group by Cohort and Cohort Index"
   ]
  },
  {
   "cell_type": "code",
   "execution_count": 14,
   "id": "3a5c7f9b-1d23-45e2-a1ba-ecd6a0762f52",
   "metadata": {},
   "outputs": [],
   "source": [
    "# Group by Cohort and Cohort Index, then count the number of unique customers\n",
    "cohort_data = Customer_data_df.groupby(['Cohort', 'Cohort Index'])['Email Adress'].nunique().reset_index()"
   ]
  },
  {
   "cell_type": "markdown",
   "id": "ce9e5c04-41e6-4350-aa2c-f8f27125b4a2",
   "metadata": {},
   "source": [
    "## Step 7: Pivot the Data to Create a Cohort Matrix"
   ]
  },
  {
   "cell_type": "code",
   "execution_count": 15,
   "id": "fd149745-a2e7-414b-8a36-677aace210ec",
   "metadata": {},
   "outputs": [],
   "source": [
    "# Pivot the data to create a cohort matrix\n",
    "cohort_pivot = cohort_data.pivot(index='Cohort', columns='Cohort Index', values='Email Adress')"
   ]
  },
  {
   "cell_type": "markdown",
   "id": "54a370f9-f960-4eb3-97a0-2efe5bb1b0f1",
   "metadata": {},
   "source": [
    "## Step 8: Visualize the Cohort Analysis"
   ]
  },
  {
   "cell_type": "code",
   "execution_count": 17,
   "id": "873815f8-e159-4627-bf9c-c58a52e4adc3",
   "metadata": {},
   "outputs": [
    {
     "data": {
      "image/png": "[encoded data removed]",
      "text/plain": [
       "<Figure size 1200x800 with 2 Axes>"
      ]
     },
     "metadata": {},
     "output_type": "display_data"
    }
   ],
   "source": [
    "# Plot the cohort analysis\n",
    "plt.figure(figsize=(12, 8))\n",
    "sns.heatmap(cohort_pivot, annot=True, fmt='.0f', cmap='Blues', linewidths=0.5)\n",
    "plt.title('Cohort Analysis - Customer Retention')\n",
    "plt.xlabel('Cohort Index (Months since first purchase)')\n",
    "plt.ylabel('Cohort (Month of first purchase)')\n",
    "plt.show()"
   ]
  },
  {
   "cell_type": "markdown",
   "id": "23f3fd04-11b4-49a7-b393-0acbaa6cb679",
   "metadata": {},
   "source": [
    "The content you provided appears to be a list of cohorts based on the month of the first purchase, primarily focusing on the years 2022 and 2023. Cohort analysis is a method used to track and analyze the behavior of groups of users over time, often to understand customer retention and engagement.\r\n",
    "\r\n",
    "Here’s a breakdown of the key points:\r\n",
    "\r\n",
    "Cohort Identification: The cohorts are identified by the month of the first purchase. For example, \"2022-09\" refers to customers who made their first purchase in September 2022."
   ]
  },
  {
   "cell_type": "code",
   "execution_count": null,
   "id": "5f972d25-1af8-48e8-8726-5d208df51af4",
   "metadata": {},
   "outputs": [],
   "source": []
  }
 ],
 "metadata": {
  "kernelspec": {
   "display_name": "Python 3 (ipykernel)",
   "language": "python",
   "name": "python3"
  },
  "language_info": {
   "codemirror_mode": {
    "name": "ipython",
    "version": 3
   },
   "file_extension": ".py",
   "mimetype": "text/x-python",
   "name": "python",
   "nbconvert_exporter": "python",
   "pygments_lexer": "ipython3",
   "version": "3.11.7"
  }
 },
 "nbformat": 4,
 "nbformat_minor": 5
}
